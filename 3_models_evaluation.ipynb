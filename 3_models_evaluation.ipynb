{
 "cells": [
  {
   "cell_type": "markdown",
   "metadata": {},
   "source": [
    "## Models and Evaluation\n",
    "---------------------------"
   ]
  },
  {
   "cell_type": "markdown",
   "metadata": {},
   "source": [
    "### Imports"
   ]
  },
  {
   "cell_type": "code",
   "execution_count": 1,
   "metadata": {},
   "outputs": [],
   "source": [
    "import pandas as pd    \n",
    "import numpy as np\n",
    "\n",
    "import matplotlib\n",
    "import matplotlib.pyplot as plt\n",
    "import matplotlib.patches as mpatches\n",
    "\n",
    "import re\n",
    "import seaborn as sns\n",
    "import codecs\n",
    "\n",
    "from sklearn.pipeline import Pipeline, FeatureUnion\n",
    "from sklearn.preprocessing import StandardScaler, FunctionTransformer\n",
    "from sklearn.linear_model import LogisticRegression\n",
    "from sklearn.metrics import confusion_matrix, accuracy_score, classification_report\n",
    "from sklearn.feature_extraction.text import CountVectorizer, TfidfVectorizer\n",
    "from sklearn.decomposition import PCA, TruncatedSVD\n",
    "from sklearn.naive_bayes import MultinomialNB\n",
    "# This is a library where you can generate classification data\n",
    "from sklearn.tree import DecisionTreeClassifier\n",
    "from sklearn.neighbors import KNeighborsClassifier\n",
    "from sklearn.model_selection import train_test_split, GridSearchCV, KFold, cross_val_score\n",
    "from sklearn.datasets import make_classification \n",
    "from sklearn.ensemble import GradientBoostingClassifier, \\\n",
    "                            AdaBoostClassifier, \\\n",
    "                            VotingClassifier, \\\n",
    "                            RandomForestClassifier\n",
    "\n",
    "\n",
    "import warnings\n",
    "warnings.filterwarnings('ignore')\n",
    "\n",
    "\n",
    "\n"
   ]
  },
  {
   "cell_type": "code",
   "execution_count": 2,
   "metadata": {},
   "outputs": [],
   "source": [
    "submissions=pd.read_pickle('./datasets/submissions.pkl')"
   ]
  },
  {
   "cell_type": "markdown",
   "metadata": {},
   "source": [
    "### Modeling"
   ]
  },
  {
   "cell_type": "code",
   "execution_count": 3,
   "metadata": {},
   "outputs": [],
   "source": [
    "# create functions to return just the columns that you care about\n",
    "get_text_data = FunctionTransformer(lambda x: x['all'], validate = False)\n",
    "get_numeric_data = FunctionTransformer(lambda x: x[['word_count', 'sentiment']], validate = False)"
   ]
  },
  {
   "cell_type": "code",
   "execution_count": 4,
   "metadata": {},
   "outputs": [],
   "source": [
    "X = submissions[['all', 'word_count','sentiment']]\n",
    "y = submissions['subreddit']\n",
    "\n",
    "X_train, X_test, y_train, y_test = train_test_split(X, \n",
    "                                                    y, \n",
    "                                                    test_size=0.2,\n",
    "                                                    random_state=42)"
   ]
  },
  {
   "cell_type": "markdown",
   "metadata": {},
   "source": [
    "### AdaBoost"
   ]
  },
  {
   "cell_type": "code",
   "execution_count": 5,
   "metadata": {},
   "outputs": [
    {
     "data": {
      "text/plain": [
       "0.9034375"
      ]
     },
     "execution_count": 5,
     "metadata": {},
     "output_type": "execute_result"
    }
   ],
   "source": [
    "pipe_ada = Pipeline([\n",
    "    ('features', FeatureUnion([\n",
    "            ('numeric_features', Pipeline([\n",
    "                ('selector', get_numeric_data),\n",
    "                ('ss', StandardScaler())\n",
    "            ])),\n",
    "            ('text_features', Pipeline([\n",
    "                ('selector', get_text_data),\n",
    "                ('cvec', CountVectorizer())\n",
    "            ]))\n",
    "    ])),\n",
    "    ('ada', AdaBoostClassifier())\n",
    "])\n",
    "\n",
    "params = {\n",
    "            'features__text_features__cvec__stop_words' : [None, 'english'],\n",
    "}\n",
    "\n",
    "gs_ada = GridSearchCV(pipe_ada, params, cv=5)\n",
    "\n",
    "gs_ada.fit(X_train, y_train)\n",
    "gs_ada.score(X_train, y_train)"
   ]
  },
  {
   "cell_type": "code",
   "execution_count": 6,
   "metadata": {},
   "outputs": [
    {
     "name": "stdout",
     "output_type": "stream",
     "text": [
      "0.90625\n"
     ]
    }
   ],
   "source": [
    "print(gs_ada.score(X_test, y_test))"
   ]
  },
  {
   "cell_type": "markdown",
   "metadata": {},
   "source": [
    "### Logistic Regression"
   ]
  },
  {
   "cell_type": "code",
   "execution_count": 7,
   "metadata": {},
   "outputs": [
    {
     "data": {
      "text/plain": [
       "0.985625"
      ]
     },
     "execution_count": 7,
     "metadata": {},
     "output_type": "execute_result"
    }
   ],
   "source": [
    "pipe = Pipeline([\n",
    "    ('features', FeatureUnion([\n",
    "            ('numeric_features', Pipeline([\n",
    "                ('selector', get_numeric_data),\n",
    "                ('ss', StandardScaler())\n",
    "            ])),\n",
    "            ('text_features', Pipeline([\n",
    "                ('selector', get_text_data),\n",
    "                ('cvec', CountVectorizer())\n",
    "            ]))\n",
    "    ])),\n",
    "    ('logreg', LogisticRegression())\n",
    "])\n",
    "\n",
    "params = {\n",
    "            'features__text_features__cvec__stop_words' : [None, 'english'],\n",
    "            'logreg__penalty' : ['l1', 'l2']\n",
    "}\n",
    "\n",
    "gs = GridSearchCV(pipe, params, cv=5)\n",
    "\n",
    "gs.fit(X_train, y_train)\n",
    "gs.score(X_train, y_train)"
   ]
  },
  {
   "cell_type": "code",
   "execution_count": 8,
   "metadata": {},
   "outputs": [
    {
     "name": "stdout",
     "output_type": "stream",
     "text": [
      "0.92875\n"
     ]
    }
   ],
   "source": [
    "print(gs.score(X_test, y_test))"
   ]
  },
  {
   "cell_type": "code",
   "execution_count": 9,
   "metadata": {},
   "outputs": [
    {
     "data": {
      "text/plain": [
       "{'features__text_features__cvec__stop_words': 'english',\n",
       " 'logreg__penalty': 'l2'}"
      ]
     },
     "execution_count": 9,
     "metadata": {},
     "output_type": "execute_result"
    }
   ],
   "source": [
    "gs.best_params_"
   ]
  },
  {
   "cell_type": "markdown",
   "metadata": {},
   "source": [
    "**Always Evaluate Your Models**"
   ]
  },
  {
   "cell_type": "code",
   "execution_count": 10,
   "metadata": {},
   "outputs": [],
   "source": [
    "def nice_conmat(y_test, preds, classes):\n",
    "\n",
    "    conmat = confusion_matrix(y_test, preds)\n",
    "    print(f'Accuracy Score: {accuracy_score(y_test, preds)}')\n",
    "    return pd.DataFrame(conmat, columns=['Predicted ' +class_ for class_ in classes], \\\n",
    "                index=['Actual '+ class_ for class_ in classes])"
   ]
  },
  {
   "cell_type": "code",
   "execution_count": 11,
   "metadata": {},
   "outputs": [
    {
     "name": "stdout",
     "output_type": "stream",
     "text": [
      "Accuracy Score: 0.90625\n"
     ]
    },
    {
     "data": {
      "text/html": [
       "<div>\n",
       "<style scoped>\n",
       "    .dataframe tbody tr th:only-of-type {\n",
       "        vertical-align: middle;\n",
       "    }\n",
       "\n",
       "    .dataframe tbody tr th {\n",
       "        vertical-align: top;\n",
       "    }\n",
       "\n",
       "    .dataframe thead th {\n",
       "        text-align: right;\n",
       "    }\n",
       "</style>\n",
       "<table border=\"1\" class=\"dataframe\">\n",
       "  <thead>\n",
       "    <tr style=\"text-align: right;\">\n",
       "      <th></th>\n",
       "      <th>Predicted Star Trek</th>\n",
       "      <th>Predicted Star Wars</th>\n",
       "    </tr>\n",
       "  </thead>\n",
       "  <tbody>\n",
       "    <tr>\n",
       "      <th>Actual Star Trek</th>\n",
       "      <td>334</td>\n",
       "      <td>44</td>\n",
       "    </tr>\n",
       "    <tr>\n",
       "      <th>Actual Star Wars</th>\n",
       "      <td>31</td>\n",
       "      <td>391</td>\n",
       "    </tr>\n",
       "  </tbody>\n",
       "</table>\n",
       "</div>"
      ],
      "text/plain": [
       "                  Predicted Star Trek  Predicted Star Wars\n",
       "Actual Star Trek                  334                   44\n",
       "Actual Star Wars                   31                  391"
      ]
     },
     "execution_count": 11,
     "metadata": {},
     "output_type": "execute_result"
    }
   ],
   "source": [
    "# Here is our ADA Model\n",
    "preds_ada = gs_ada.best_estimator_.predict(X_test)\n",
    "\n",
    "nice_conmat(y_test, preds_ada, ['Star Trek', 'Star Wars'])"
   ]
  },
  {
   "cell_type": "code",
   "execution_count": 12,
   "metadata": {
    "jupyter": {
     "source_hidden": true
    }
   },
   "outputs": [],
   "source": [
    "def nice_conmat(y_test, preds, classes):\n",
    "\n",
    "    conmat = confusion_matrix(y_test, preds)\n",
    "    print(f'Accuracy Score: {accuracy_score(y_test, preds)}')\n",
    "    return pd.DataFrame(conmat, columns=['Predicted ' +class_ for class_ in classes], \\\n",
    "                index=['Actual '+ class_ for class_ in classes])"
   ]
  },
  {
   "cell_type": "code",
   "execution_count": 24,
   "metadata": {},
   "outputs": [
    {
     "name": "stdout",
     "output_type": "stream",
     "text": [
      "Accuracy Score: 0.92875\n"
     ]
    },
    {
     "data": {
      "text/html": [
       "<div>\n",
       "<style scoped>\n",
       "    .dataframe tbody tr th:only-of-type {\n",
       "        vertical-align: middle;\n",
       "    }\n",
       "\n",
       "    .dataframe tbody tr th {\n",
       "        vertical-align: top;\n",
       "    }\n",
       "\n",
       "    .dataframe thead th {\n",
       "        text-align: right;\n",
       "    }\n",
       "</style>\n",
       "<table border=\"1\" class=\"dataframe\">\n",
       "  <thead>\n",
       "    <tr style=\"text-align: right;\">\n",
       "      <th></th>\n",
       "      <th>Predicted Star Trek</th>\n",
       "      <th>Predicted Star Wars</th>\n",
       "    </tr>\n",
       "  </thead>\n",
       "  <tbody>\n",
       "    <tr>\n",
       "      <th>Actual Star Trek</th>\n",
       "      <td>331</td>\n",
       "      <td>47</td>\n",
       "    </tr>\n",
       "    <tr>\n",
       "      <th>Actual Star Wars</th>\n",
       "      <td>10</td>\n",
       "      <td>412</td>\n",
       "    </tr>\n",
       "  </tbody>\n",
       "</table>\n",
       "</div>"
      ],
      "text/plain": [
       "                  Predicted Star Trek  Predicted Star Wars\n",
       "Actual Star Trek                  331                   47\n",
       "Actual Star Wars                   10                  412"
      ]
     },
     "execution_count": 24,
     "metadata": {},
     "output_type": "execute_result"
    }
   ],
   "source": [
    "# Here is our LOG REG Model\n",
    "\n",
    "nice_conmat(y_test, preds, ['Star Trek', 'Star Wars'])"
   ]
  },
  {
   "cell_type": "code",
   "execution_count": 14,
   "metadata": {},
   "outputs": [],
   "source": [
    "#coefficients\n",
    "\n",
    "coefficients = gs.best_estimator_.named_steps['logreg'].coef_[0]"
   ]
  },
  {
   "cell_type": "code",
   "execution_count": 15,
   "metadata": {},
   "outputs": [],
   "source": [
    "# re-creating our features variable:\n",
    "\n",
    "features = ['word_count', 'sentiment_score'] +\\\n",
    "gs.best_estimator_.named_steps['features'].transformer_list[1][1].named_steps['cvec'].get_feature_names()\n",
    "\n",
    "# no changes to our coefficient variable:\n",
    "# I'm just bringing it down here\n",
    "coefficients = gs.best_estimator_.named_steps['logreg'].coef_[0]"
   ]
  },
  {
   "cell_type": "code",
   "execution_count": 16,
   "metadata": {},
   "outputs": [
    {
     "data": {
      "text/html": [
       "<div>\n",
       "<style scoped>\n",
       "    .dataframe tbody tr th:only-of-type {\n",
       "        vertical-align: middle;\n",
       "    }\n",
       "\n",
       "    .dataframe tbody tr th {\n",
       "        vertical-align: top;\n",
       "    }\n",
       "\n",
       "    .dataframe thead th {\n",
       "        text-align: right;\n",
       "    }\n",
       "</style>\n",
       "<table border=\"1\" class=\"dataframe\">\n",
       "  <thead>\n",
       "    <tr style=\"text-align: right;\">\n",
       "      <th></th>\n",
       "      <th>features</th>\n",
       "      <th>coef</th>\n",
       "      <th>exp_coef</th>\n",
       "    </tr>\n",
       "  </thead>\n",
       "  <tbody>\n",
       "    <tr>\n",
       "      <th>0</th>\n",
       "      <td>word_count</td>\n",
       "      <td>-1.827529</td>\n",
       "      <td>0.160810</td>\n",
       "    </tr>\n",
       "    <tr>\n",
       "      <th>1</th>\n",
       "      <td>sentiment_score</td>\n",
       "      <td>-0.070801</td>\n",
       "      <td>0.931647</td>\n",
       "    </tr>\n",
       "    <tr>\n",
       "      <th>2</th>\n",
       "      <td>00</td>\n",
       "      <td>0.086614</td>\n",
       "      <td>1.090476</td>\n",
       "    </tr>\n",
       "    <tr>\n",
       "      <th>3</th>\n",
       "      <td>000</td>\n",
       "      <td>-0.000356</td>\n",
       "      <td>0.999644</td>\n",
       "    </tr>\n",
       "    <tr>\n",
       "      <th>4</th>\n",
       "      <td>005</td>\n",
       "      <td>0.006667</td>\n",
       "      <td>1.006689</td>\n",
       "    </tr>\n",
       "    <tr>\n",
       "      <th>...</th>\n",
       "      <td>...</td>\n",
       "      <td>...</td>\n",
       "      <td>...</td>\n",
       "    </tr>\n",
       "    <tr>\n",
       "      <th>14177</th>\n",
       "      <td>zones</td>\n",
       "      <td>0.108754</td>\n",
       "      <td>1.114888</td>\n",
       "    </tr>\n",
       "    <tr>\n",
       "      <th>14178</th>\n",
       "      <td>zoom</td>\n",
       "      <td>0.218912</td>\n",
       "      <td>1.244722</td>\n",
       "    </tr>\n",
       "    <tr>\n",
       "      <th>14179</th>\n",
       "      <td>zooms</td>\n",
       "      <td>0.000010</td>\n",
       "      <td>1.000010</td>\n",
       "    </tr>\n",
       "    <tr>\n",
       "      <th>14180</th>\n",
       "      <td>zora</td>\n",
       "      <td>-0.000002</td>\n",
       "      <td>0.999998</td>\n",
       "    </tr>\n",
       "    <tr>\n",
       "      <th>14181</th>\n",
       "      <td>édition</td>\n",
       "      <td>-0.002535</td>\n",
       "      <td>0.997468</td>\n",
       "    </tr>\n",
       "  </tbody>\n",
       "</table>\n",
       "<p>14182 rows × 3 columns</p>\n",
       "</div>"
      ],
      "text/plain": [
       "              features      coef  exp_coef\n",
       "0           word_count -1.827529  0.160810\n",
       "1      sentiment_score -0.070801  0.931647\n",
       "2                   00  0.086614  1.090476\n",
       "3                  000 -0.000356  0.999644\n",
       "4                  005  0.006667  1.006689\n",
       "...                ...       ...       ...\n",
       "14177            zones  0.108754  1.114888\n",
       "14178             zoom  0.218912  1.244722\n",
       "14179            zooms  0.000010  1.000010\n",
       "14180             zora -0.000002  0.999998\n",
       "14181          édition -0.002535  0.997468\n",
       "\n",
       "[14182 rows x 3 columns]"
      ]
     },
     "execution_count": 16,
     "metadata": {},
     "output_type": "execute_result"
    }
   ],
   "source": [
    "coef_df = pd.DataFrame({'features': features, \n",
    "              'coef' : coefficients,\n",
    "              'exp_coef': [np.exp(coef) for coef in coefficients] #exponentiated coefficients\n",
    "             })\n",
    "\n",
    "coef_df"
   ]
  },
  {
   "cell_type": "code",
   "execution_count": 17,
   "metadata": {},
   "outputs": [
    {
     "data": {
      "text/html": [
       "<div>\n",
       "<style scoped>\n",
       "    .dataframe tbody tr th:only-of-type {\n",
       "        vertical-align: middle;\n",
       "    }\n",
       "\n",
       "    .dataframe tbody tr th {\n",
       "        vertical-align: top;\n",
       "    }\n",
       "\n",
       "    .dataframe thead th {\n",
       "        text-align: right;\n",
       "    }\n",
       "</style>\n",
       "<table border=\"1\" class=\"dataframe\">\n",
       "  <thead>\n",
       "    <tr style=\"text-align: right;\">\n",
       "      <th></th>\n",
       "      <th>features</th>\n",
       "      <th>coef</th>\n",
       "      <th>exp_coef</th>\n",
       "    </tr>\n",
       "  </thead>\n",
       "  <tbody>\n",
       "    <tr>\n",
       "      <th>11108</th>\n",
       "      <td>sentiment</td>\n",
       "      <td>-3.369624e-07</td>\n",
       "      <td>1.0</td>\n",
       "    </tr>\n",
       "  </tbody>\n",
       "</table>\n",
       "</div>"
      ],
      "text/plain": [
       "        features          coef  exp_coef\n",
       "11108  sentiment -3.369624e-07       1.0"
      ]
     },
     "execution_count": 17,
     "metadata": {},
     "output_type": "execute_result"
    }
   ],
   "source": [
    "coef_df.loc[coef_df['features'] == 'sentiment']"
   ]
  },
  {
   "cell_type": "code",
   "execution_count": 18,
   "metadata": {
    "scrolled": true
   },
   "outputs": [],
   "source": [
    "coef_df = coef_df.set_index('features')\n",
    "coef_df = coef_df.sort_values('exp_coef', ascending = False)"
   ]
  },
  {
   "cell_type": "code",
   "execution_count": 19,
   "metadata": {
    "scrolled": true
   },
   "outputs": [
    {
     "data": {
      "text/html": [
       "<div>\n",
       "<style scoped>\n",
       "    .dataframe tbody tr th:only-of-type {\n",
       "        vertical-align: middle;\n",
       "    }\n",
       "\n",
       "    .dataframe tbody tr th {\n",
       "        vertical-align: top;\n",
       "    }\n",
       "\n",
       "    .dataframe thead th {\n",
       "        text-align: right;\n",
       "    }\n",
       "</style>\n",
       "<table border=\"1\" class=\"dataframe\">\n",
       "  <thead>\n",
       "    <tr style=\"text-align: right;\">\n",
       "      <th></th>\n",
       "      <th>coef</th>\n",
       "      <th>exp_coef</th>\n",
       "    </tr>\n",
       "    <tr>\n",
       "      <th>features</th>\n",
       "      <th></th>\n",
       "      <th></th>\n",
       "    </tr>\n",
       "  </thead>\n",
       "  <tbody>\n",
       "    <tr>\n",
       "      <th>janeway</th>\n",
       "      <td>-1.084077</td>\n",
       "      <td>0.338214</td>\n",
       "    </tr>\n",
       "    <tr>\n",
       "      <th>starship</th>\n",
       "      <td>-1.118433</td>\n",
       "      <td>0.326791</td>\n",
       "    </tr>\n",
       "    <tr>\n",
       "      <th>mirror</th>\n",
       "      <td>-1.122191</td>\n",
       "      <td>0.325566</td>\n",
       "    </tr>\n",
       "    <tr>\n",
       "      <th>worf</th>\n",
       "      <td>-1.153849</td>\n",
       "      <td>0.315420</td>\n",
       "    </tr>\n",
       "    <tr>\n",
       "      <th>lt</th>\n",
       "      <td>-1.156190</td>\n",
       "      <td>0.314683</td>\n",
       "    </tr>\n",
       "    <tr>\n",
       "      <th>riker</th>\n",
       "      <td>-1.167830</td>\n",
       "      <td>0.311041</td>\n",
       "    </tr>\n",
       "    <tr>\n",
       "      <th>federation</th>\n",
       "      <td>-1.243470</td>\n",
       "      <td>0.288382</td>\n",
       "    </tr>\n",
       "    <tr>\n",
       "      <th>dis</th>\n",
       "      <td>-1.245797</td>\n",
       "      <td>0.287711</td>\n",
       "    </tr>\n",
       "    <tr>\n",
       "      <th>captain</th>\n",
       "      <td>-1.372710</td>\n",
       "      <td>0.253419</td>\n",
       "    </tr>\n",
       "    <tr>\n",
       "      <th>quadrant</th>\n",
       "      <td>-1.393655</td>\n",
       "      <td>0.248167</td>\n",
       "    </tr>\n",
       "    <tr>\n",
       "      <th>borg</th>\n",
       "      <td>-1.453365</td>\n",
       "      <td>0.233782</td>\n",
       "    </tr>\n",
       "    <tr>\n",
       "      <th>klingon</th>\n",
       "      <td>-1.538837</td>\n",
       "      <td>0.214631</td>\n",
       "    </tr>\n",
       "    <tr>\n",
       "      <th>picard</th>\n",
       "      <td>-1.819236</td>\n",
       "      <td>0.162150</td>\n",
       "    </tr>\n",
       "    <tr>\n",
       "      <th>word_count</th>\n",
       "      <td>-1.827529</td>\n",
       "      <td>0.160810</td>\n",
       "    </tr>\n",
       "    <tr>\n",
       "      <th>voyager</th>\n",
       "      <td>-1.844830</td>\n",
       "      <td>0.158052</td>\n",
       "    </tr>\n",
       "    <tr>\n",
       "      <th>ds9</th>\n",
       "      <td>-2.140904</td>\n",
       "      <td>0.117548</td>\n",
       "    </tr>\n",
       "    <tr>\n",
       "      <th>enterprise</th>\n",
       "      <td>-2.304047</td>\n",
       "      <td>0.099854</td>\n",
       "    </tr>\n",
       "    <tr>\n",
       "      <th>tng</th>\n",
       "      <td>-2.394193</td>\n",
       "      <td>0.091246</td>\n",
       "    </tr>\n",
       "    <tr>\n",
       "      <th>discovery</th>\n",
       "      <td>-2.647322</td>\n",
       "      <td>0.070841</td>\n",
       "    </tr>\n",
       "    <tr>\n",
       "      <th>trek</th>\n",
       "      <td>-4.197610</td>\n",
       "      <td>0.015031</td>\n",
       "    </tr>\n",
       "  </tbody>\n",
       "</table>\n",
       "</div>"
      ],
      "text/plain": [
       "                coef  exp_coef\n",
       "features                      \n",
       "janeway    -1.084077  0.338214\n",
       "starship   -1.118433  0.326791\n",
       "mirror     -1.122191  0.325566\n",
       "worf       -1.153849  0.315420\n",
       "lt         -1.156190  0.314683\n",
       "riker      -1.167830  0.311041\n",
       "federation -1.243470  0.288382\n",
       "dis        -1.245797  0.287711\n",
       "captain    -1.372710  0.253419\n",
       "quadrant   -1.393655  0.248167\n",
       "borg       -1.453365  0.233782\n",
       "klingon    -1.538837  0.214631\n",
       "picard     -1.819236  0.162150\n",
       "word_count -1.827529  0.160810\n",
       "voyager    -1.844830  0.158052\n",
       "ds9        -2.140904  0.117548\n",
       "enterprise -2.304047  0.099854\n",
       "tng        -2.394193  0.091246\n",
       "discovery  -2.647322  0.070841\n",
       "trek       -4.197610  0.015031"
      ]
     },
     "execution_count": 19,
     "metadata": {},
     "output_type": "execute_result"
    }
   ],
   "source": [
    "coef_df.tail(20)"
   ]
  },
  {
   "cell_type": "code",
   "execution_count": 20,
   "metadata": {},
   "outputs": [
    {
     "data": {
      "text/plain": [
       "features\n",
       "trek          0.015031\n",
       "discovery     0.070841\n",
       "tng           0.091246\n",
       "enterprise    0.099854\n",
       "ds9           0.117548\n",
       "voyager       0.158052\n",
       "word_count    0.160810\n",
       "picard        0.162150\n",
       "klingon       0.214631\n",
       "borg          0.233782\n",
       "Name: exp_coef, dtype: float64"
      ]
     },
     "execution_count": 20,
     "metadata": {},
     "output_type": "execute_result"
    }
   ],
   "source": [
    "coef_df['exp_coef'].tail(10).sort_values()"
   ]
  },
  {
   "cell_type": "code",
   "execution_count": 21,
   "metadata": {},
   "outputs": [
    {
     "data": {
      "image/png": "[encoded data removed]",
      "text/plain": [
       "<Figure size 1440x720 with 1 Axes>"
      ]
     },
     "metadata": {
      "needs_background": "light"
     },
     "output_type": "display_data"
    }
   ],
   "source": [
    "weights = coef_df['exp_coef'].head(10).sort_values()\n",
    "labels = weights.index\n",
    "\n",
    "plt.figure(figsize=(20,10))\n",
    "plt.barh(labels, weights, color = 'limegreen')\n",
    "plt.yticks(fontsize=20)\n",
    "plt.xticks(ticks= range(13), fontsize=20)\n",
    "plt.xlabel('Exp Coef', fontsize=30)\n",
    "plt.title(f'Top 10 Features - Star Wars', fontsize=42)\n",
    "plt.tight_layout()\n",
    "plt.savefig('./images/top10starwars.png')"
   ]
  },
  {
   "cell_type": "code",
   "execution_count": 22,
   "metadata": {},
   "outputs": [
    {
     "data": {
      "image/png": "[encoded data removed]",
      "text/plain": [
       "<Figure size 1440x720 with 1 Axes>"
      ]
     },
     "metadata": {
      "needs_background": "light"
     },
     "output_type": "display_data"
    }
   ],
   "source": [
    "weights = coef_df['exp_coef'].tail(10).sort_values()\n",
    "labels = weights.index\n",
    "\n",
    "plt.figure(figsize=(20,10))\n",
    "plt.barh(labels, weights, color = 'royalblue')\n",
    "plt.yticks(fontsize=20)\n",
    "plt.xticks(ticks= [0, 0.025,0.05,0.1, 0.15, 0.2, 0.25, 0.3] , fontsize=20)\n",
    "plt.xlabel('Exp Coef', fontsize=30)\n",
    "plt.title(f'Top 10 Features - Star Trek', fontsize=42)\n",
    "plt.tight_layout()\n",
    "plt.savefig('./images/top10startrek.png')"
   ]
  },
  {
   "cell_type": "code",
   "execution_count": 23,
   "metadata": {},
   "outputs": [
    {
     "data": {
      "text/html": [
       "<div>\n",
       "<style scoped>\n",
       "    .dataframe tbody tr th:only-of-type {\n",
       "        vertical-align: middle;\n",
       "    }\n",
       "\n",
       "    .dataframe tbody tr th {\n",
       "        vertical-align: top;\n",
       "    }\n",
       "\n",
       "    .dataframe thead th {\n",
       "        text-align: right;\n",
       "    }\n",
       "</style>\n",
       "<table border=\"1\" class=\"dataframe\">\n",
       "  <thead>\n",
       "    <tr style=\"text-align: right;\">\n",
       "      <th></th>\n",
       "      <th>coef</th>\n",
       "      <th>exp_coef</th>\n",
       "    </tr>\n",
       "    <tr>\n",
       "      <th>features</th>\n",
       "      <th></th>\n",
       "      <th></th>\n",
       "    </tr>\n",
       "  </thead>\n",
       "  <tbody>\n",
       "    <tr>\n",
       "      <th>wars</th>\n",
       "      <td>2.303846</td>\n",
       "      <td>10.012614</td>\n",
       "    </tr>\n",
       "    <tr>\n",
       "      <th>mandalorian</th>\n",
       "      <td>2.148723</td>\n",
       "      <td>8.573902</td>\n",
       "    </tr>\n",
       "    <tr>\n",
       "      <th>jedi</th>\n",
       "      <td>1.676467</td>\n",
       "      <td>5.346632</td>\n",
       "    </tr>\n",
       "    <tr>\n",
       "      <th>luke</th>\n",
       "      <td>1.278738</td>\n",
       "      <td>3.592104</td>\n",
       "    </tr>\n",
       "    <tr>\n",
       "      <th>2021</th>\n",
       "      <td>1.194731</td>\n",
       "      <td>3.302670</td>\n",
       "    </tr>\n",
       "    <tr>\n",
       "      <th>...</th>\n",
       "      <td>...</td>\n",
       "      <td>...</td>\n",
       "    </tr>\n",
       "    <tr>\n",
       "      <th>ds9</th>\n",
       "      <td>-2.140904</td>\n",
       "      <td>0.117548</td>\n",
       "    </tr>\n",
       "    <tr>\n",
       "      <th>enterprise</th>\n",
       "      <td>-2.304047</td>\n",
       "      <td>0.099854</td>\n",
       "    </tr>\n",
       "    <tr>\n",
       "      <th>tng</th>\n",
       "      <td>-2.394193</td>\n",
       "      <td>0.091246</td>\n",
       "    </tr>\n",
       "    <tr>\n",
       "      <th>discovery</th>\n",
       "      <td>-2.647322</td>\n",
       "      <td>0.070841</td>\n",
       "    </tr>\n",
       "    <tr>\n",
       "      <th>trek</th>\n",
       "      <td>-4.197610</td>\n",
       "      <td>0.015031</td>\n",
       "    </tr>\n",
       "  </tbody>\n",
       "</table>\n",
       "<p>14182 rows × 2 columns</p>\n",
       "</div>"
      ],
      "text/plain": [
       "                 coef   exp_coef\n",
       "features                        \n",
       "wars         2.303846  10.012614\n",
       "mandalorian  2.148723   8.573902\n",
       "jedi         1.676467   5.346632\n",
       "luke         1.278738   3.592104\n",
       "2021         1.194731   3.302670\n",
       "...               ...        ...\n",
       "ds9         -2.140904   0.117548\n",
       "enterprise  -2.304047   0.099854\n",
       "tng         -2.394193   0.091246\n",
       "discovery   -2.647322   0.070841\n",
       "trek        -4.197610   0.015031\n",
       "\n",
       "[14182 rows x 2 columns]"
      ]
     },
     "execution_count": 23,
     "metadata": {},
     "output_type": "execute_result"
    }
   ],
   "source": [
    "coef_df"
   ]
  },
  {
   "cell_type": "code",
   "execution_count": null,
   "metadata": {},
   "outputs": [],
   "source": []
  }
 ],
 "metadata": {
  "kernelspec": {
   "display_name": "Python 3",
   "language": "python",
   "name": "python3"
  },
  "language_info": {
   "codemirror_mode": {
    "name": "ipython",
    "version": 3
   },
   "file_extension": ".py",
   "mimetype": "text/x-python",
   "name": "python",
   "nbconvert_exporter": "python",
   "pygments_lexer": "ipython3",
   "version": "3.9.1"
  }
 },
 "nbformat": 4,
 "nbformat_minor": 4
}
